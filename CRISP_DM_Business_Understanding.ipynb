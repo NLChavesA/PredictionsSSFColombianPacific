{
  "nbformat": 4,
  "nbformat_minor": 0,
  "metadata": {
    "colab": {
      "name": "CRISP-DM-Business-Understanding.ipynb",
      "private_outputs": true,
      "provenance": [],
      "collapsed_sections": []
    },
    "kernelspec": {
      "name": "python3",
      "display_name": "Python 3"
    },
    "language_info": {
      "name": "python"
    }
  },
  "cells": [
    {
      "cell_type": "markdown",
      "metadata": {
        "id": "QymLIm4VfzuM"
      },
      "source": [
        "# **Comprensión del negocio**\n",
        "\n",
        "La Autoridad Nacional de Acuicultura y Pesca -AUNAP- es una entidad adscrita al Ministerio de Agricultura encargada de \"ejecutar la política pesquera y de la acuicultura en el territorio colombiano con fines de investigación, ordenamiento, administración, control y vigilancia de los recursos pesqueros, y de impulso de la acuicultura propendiendo por el desarrollo productivo y progreso social\". \n",
        "\n",
        "## **Objetivos del negocio**\n",
        "\n",
        "Adelanta los procesos de planificación, investigación, ordenamiento, fomento, regulación, registro, información, inspección, vigilancia y control de las actividades de pesca y acuicultura, aplicando las sanciones a que haya lugar, dentro de una política de fomento y desarrollo sostenible de los recursos pesqueros (Decreto 4181, 2011).\n",
        "\n",
        "1.   Ejecutar la política pesquera y de la acuicultura que señale el Gobierno Nacional a través del Ministerio de Agricultura y Desarrollo Rural.\n",
        "2.   Contribuir con la formulación de la política pesquera y de la acuicultura, y aportar los insumos para la planificación sectorial, la competitividad y la sostenibilidad ambiental del sector.\n",
        "3.   Promover, coordinar y apoyar las investigaciones sobre los recursos pesqueros y los sistemas de producción acuícola.\n",
        "4.   Realizar el ordenamiento, la administración, el control y la regulación para el aprovechamiento y desarrollo sostenible de los recursos pesqueros y de la acuicultura en el territorio nacional.\n",
        "5.   Articular su gestión con los sistemas y programas relacionados con el sector pesquero y de la acuicultura, a escala nacional e internacional.\n",
        "6.   Realizar alianzas estratégicas con entidades públicas, universidades, gremios y otras organizaciones privadas, nacionales e internacionales, para consolidar el fomento, la investigación, la gestión del conocimiento e información de la pesca y de la acuicultura.\n",
        "7.   Diseñar y administrar un sistema de información pesquero y de la acuicultura nacional como soporte de la administración, manejo y control de las actividades propias de la institución.\n",
        "8.   Establecer los requisitos para el otorgamiento de permisos y autorizaciones para el ejercicio de las actividades pesqueras y acuícolas, así como los trámites necesarios.\n",
        "9.   Autorizar las importaciones o exportaciones de bienes y productos relacionados con la actividad pesquera y de acuicultura.\n",
        "10.   Fijar y recaudar el monto de las tasas y derechos, multas que deben cobrarse por concepto de las autorizaciones para el ejercicio de las actividades pesqueras y de acuicultura.\n",
        "11.   Adelantar las investigaciones administrativas sobre las conductas violatorias de las disposiciones establecidas en el Estatuto General de Pesca o normas que lo sustituyan o adicionen, e imponer las sanciones a que hubiere lugar, conforme con la normativa vigente.\n",
        "12.   Realizar las actuaciones administrativas conducentes al ejercicio de la autoridad nacional de pesca y acuicultura, en desarrollo de su facultad de inspección, vigilancia y control de la actividad pesquera y de la acuicultura.\n",
        "13.   Establecer mecanismos de control y vigilancia para el cumplimiento de las normas que regulan las actividades de pesca y de la acuicultura en el territorio nacional en coordinación con la Armada Nacional, la Dirección General Marítima, la Policía Nacional, la Unidad Administrativa Especial Parques Nacionales Naturales de Colombia, las Corporaciones Autónomas Regionales y de Desarrollo Sostenible, entre otras autoridades, dentro de sus respectivas competencias.\n",
        "14.   Coordinar con el Instituto Colombiano de Desarrollo Rural –INCODER, la definición de los programas para la implementación de la política de desarrollo rural para las comunidades de pescadores artesanales y acuicultores, con especial atención de la población vulnerable.\n",
        "15.   Establecer mecanismos de fomento y desarrollo productivo para las actividades pesqueras y de la acuicultura.\n",
        "16.   Promover ante las autoridades competentes los programas de desarrollo social y económico para los pequeños productores del sector pesquero y acuícola.\n",
        "17.   Representar al Gobierno Nacional y al Ministerio de Agricultura y Desarrollo Rural en las misiones y encargos frente a encuentros y organismos internacionales que se relacionen con el objeto propio del Instituto.\n",
        "18.   Realizar la planeación prospectiva de la actividad de pesca y acuicultura a fin de lograr el aprovechamiento adecuado y sostenible de estas actividades.\n",
        "19.   Publicar y divulgar la información técnica generada por la Autoridad Nacional de Acuicultura y Pesca –AUNAP, en especial la relacionada con la planificación, regulación, fomento, comercialización, control y vigilancia de la actividad de acuicultura y pesca, así como los protocolos de producción, mercadeo, almacenamiento.\n",
        "\n",
        "\n",
        "\n",
        "\n",
        "\n",
        "\n",
        "\n",
        "\n",
        "\n"
      ]
    }
  ]
}