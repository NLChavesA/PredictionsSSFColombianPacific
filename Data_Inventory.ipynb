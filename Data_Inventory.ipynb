{
  "nbformat": 4,
  "nbformat_minor": 0,
  "metadata": {
    "colab": {
      "name": "Data Inventory.ipynb",
      "private_outputs": true,
      "provenance": [],
      "collapsed_sections": [],
      "authorship_tag": "ABX9TyMktPXM5sDjwoSlAr5eVi1t",
      "include_colab_link": true
    },
    "kernelspec": {
      "name": "python3",
      "display_name": "Python 3"
    },
    "language_info": {
      "name": "python"
    }
  },
  "cells": [
    {
      "cell_type": "markdown",
      "metadata": {
        "id": "view-in-github",
        "colab_type": "text"
      },
      "source": [
        "<a href=\"https://colab.research.google.com/github/NLChavesA/PredictionsSSFColombianPacific/blob/main/Data_Inventory.ipynb\" target=\"_parent\"><img src=\"https://colab.research.google.com/assets/colab-badge.svg\" alt=\"Open In Colab\"/></a>"
      ]
    },
    {
      "cell_type": "markdown",
      "metadata": {
        "id": "gnt5XXcfbJAH"
      },
      "source": [
        "#**Plan**\n",
        "##**El propósito del inventario**\n",
        "El propósito del inventario se centra en la necesidad de mejorar la gestión de los datos, el inventario permite la gestión y evaluación de los datos del negocio (AUNAP-SEPEC), ayuda a identificar potenciales usos para la información, también garantiza la claridad en la delegación de funciones o roles durante la gestión de los datos.\n",
        "\n",
        "El inventario proporciona una lista de conjuntos de datos que son útiles para abordar problemas o desafíos relacionado con el objetivo del proyecto, en otras palabras, el inventario de los datos albergados en el SEPEC, permite identificar los datos que permitirán construir el modelo predictivo sobre el funcionamiento de la pesca artesanal en el pacifico colombiano.\n",
        "\n",
        "##**La definición de los datos**\n",
        "El inventario de datos sebe ser actualizado mensualmente, esto puede ser mediante la actualización y administración de los datos del SEPEC, si los datos del SEPEC se encuentran actualizado entonces se debe hacer una retroalimentación a partir de la información vinculada. Para esto se debe delegar a una persona que administre y evalúa la integralidad de las bases de datos y el modelo implementado.\n",
        "\n",
        "Se desea recopilar información detalladas de la pesca artesanal que permite identificar las especies capturadas, como son capturadas, el esfuerzo de captura por artes de pesca entre otros criterios que definen la manera en que funciona la pesca artesanal.\n"
      ]
    },
    {
      "cell_type": "code",
      "metadata": {
        "id": "6QB8YoVb6Myi"
      },
      "source": [
        "##Desired attributes to describe the data set created on 05/02/2021\n",
        "\n",
        "import pandas as pd\n",
        "\n",
        "dfDA = pd.DataFrame(columns=['Atributo','Descripción'],\n",
        "                  index=range(15))\n",
        "\n",
        "dfDA.iloc[0] = ('Identificación','Identificador único para el conjunto de datos')\n",
        "dfDA.iloc[1] = ('Titulo','El nombre del datos')\n",
        "dfDA.iloc[2] = ('Descripción','La descripción sintética del datos')\n",
        "dfDA.iloc[3] = ('Propósito', 'Descripción del propósito por el cual el dato fue recopilado o creado')\n",
        "dfDA.iloc[4] = ('Creador','Nombre del creador del dato')\n",
        "dfDA.iloc[5] = ('Gerente/Dueño', 'Nombre del gerente o dueño del dato')\n",
        "dfDA.iloc[6] = ('Objetivo/Palabras claves', 'Tema o palabras claves que vinculan el dato a un objetivo de investigación')\n",
        "dfDA.iloc[7] = ('Lugar de almacenamiento', 'Nombre del lugar en el que se almacena o se ubica el dato')\n",
        "dfDA.iloc[8] = ('Fecha de creación', 'Fecha de creación del dato')\n",
        "dfDA.iloc[9] = ('Fecha de actualización', 'Fecha de actualización del dato')\n",
        "dfDA.iloc[10] = ('Tipo de dato', 'Nombre del tipo de dato')\n",
        "dfDA.iloc[11] = ('Formato', 'Formato en el que se encuentra el dato')\n",
        "dfDA.iloc[12] = ('Restricciones', 'Anotación y observación sobre las restricciones y los derechos de autor que estén involucrados con el dato y que pueden limitar el acceso y/o uso del dato')\n",
        "dfDA.iloc[13] = ('Dirección de acceso', 'Dirección o enlace a la licencia correspondiente para el uso de los datos')\n",
        "\n",
        "dfDA.head(14)"
      ],
      "execution_count": null,
      "outputs": []
    },
    {
      "cell_type": "code",
      "metadata": {
        "id": "qSsfk0lLGtMO"
      },
      "source": [
        "#Table Data sources and URLs created on 05/02/2021  last consulted: 05/05/2021\n",
        "\n",
        "import pandas as pd\n",
        "\n",
        "dfDSU = pd.DataFrame(columns=['Fuente de datos','Entidad ','URL'],\n",
        "                  index=range(10))\n",
        "\n",
        "dfDSU.iloc[0] = ('SEPEC','AUNAP','http://sepec.aunap.gov.co/')\n",
        "dfDSU.iloc[1] = ('SIPEIN','INVEMAR', 'http://sipein.invemar.org.co/')\n",
        "dfDSU.iloc[2] = ('Agronet','MinAgricultura','http://bibliotecadigital.agronet.gov.co/simple-search?query=pesca+artesanal')\n",
        "dfDSU.iloc[3] = ('SIOC','MinAgricultura','https://sioc.minagricultura.gov.co/Pesca/Pages/default.aspx')\n",
        "dfDSU.iloc[4] = ('INPA','IDEAM','http://documentacion.ideam.gov.co/openbiblio/bvirtual/001819/Winisis/Pagina/ord.htm')\n",
        "\n",
        "dfDSU.head(5)"
      ],
      "execution_count": null,
      "outputs": []
    },
    {
      "cell_type": "code",
      "metadata": {
        "id": "O0deWEic6TPi"
      },
      "source": [
        "#Table dictionary: Historical series monthly estimate by site method species taken from http://sepec.aunap.gov.co/Estadisticas/SeriesHistoricas last consulted: 05/05/2021\n",
        "\n",
        "import pandas as pd\n",
        "\n",
        "dfH = pd.DataFrame(columns=['Campo','Tipo','Tamaño','Descripción'],\n",
        "                  index=range(11))\n",
        "\n",
        "dfH.iloc[0] = ('Cuenca/Litoral', 'Integer', 4 , 'Contiene el nombre de la cuenca hidrográfica en la cual se realizaron los esfuerzo de captura')\n",
        "dfH.iloc[1] = ('Departamento', 'Integer', 4, 'Contiene el nombre del departamento en el cual se realizó el desembarco')\n",
        "dfH.iloc[2] = ('Municipio', 'Integer', 4, 'Contiene el nombre del municipio en el cual se realizo el desembarco y el formulario de campo')\n",
        "dfH.iloc[3] = ('Sitio de desembarco', 'Integer', 4, 'Contiene el nombre del sitio donde las diferente embarcaciones arriban y descargan las capturas de la faena')\n",
        "dfH.iloc[4] = ('Especie', 'Integer', 4, 'Contiene el nombre y de la especie que ha sido registradas en el formulario de campo')\n",
        "dfH.iloc[5] = ('Método de pesca', 'Integer', 4, 'Contiene el nombre del método o arte de pesca registrado en el formulario de campo')\n",
        "dfH.iloc[6] = ('Mes', 'Integer', 4, 'Contiene el mes del formulario de campo')\n",
        "dfH.iloc[7] = ('Estimación', 'Double', 8, 'Contiene el valor de la estimación del desembarco total para cada sitio de desembarco, a partir de las faenas muestreadas y la medición del respectivo esfuerzo pesquero')\n",
        "dfH.iloc[8] = ('Linf', 'Double', 8, 'Contiene el valor del limite inferior del del desembarco total estimado')\n",
        "dfH.iloc[9] = ('Lsup', 'Double', 8, 'Contiene el valor del limite superior del del desembarco total estimado')\n",
        "dfH.iloc[10] = ('Año', 'Integer', 4, 'Contiene el año del formulario de campo')\n",
        "\n",
        "dfH.head(11)"
      ],
      "execution_count": null,
      "outputs": []
    },
    {
      "cell_type": "code",
      "metadata": {
        "id": "sd6gS9CD6Xmx"
      },
      "source": [
        "#Table dictionary: Average monthly catch rate by site and method taken from http://sepec.aunap.gov.co/Estadisticas/SeriesHistoricas last consulted: 05/05/2021\n",
        "\n",
        "import pandas as pd\n",
        "\n",
        "dfA = pd.DataFrame(columns=['Campo','Tipo','Tamaño','Descripción'],\n",
        "                  index=range(10))\n",
        "\n",
        "dfA.iloc[0] = ('Cuenca/Litoral', 'Integer', 4 , 'Contiene el nombre de la cuenca hidrográfica en la cual se realizaron los esfuerzo de captura')\n",
        "dfA.iloc[1] = ('Departamento', 'Integer', 4, 'Contiene el nombre del departamento en el cual se realizó el desembarco')\n",
        "dfA.iloc[2] = ('Municipio', 'Integer', 4, 'Contiene el nombre del municipio en el cual se realizo el desembarco y el formulario de campo')\n",
        "dfA.iloc[3] = ('Sitio de desembarco', 'Integer', 4, 'Contiene el nombre del sitio donde las diferente embarcaciones arriban y descargan las capturas de la faena')\n",
        "dfA.iloc[4] = ('Método de pesca', 'Integer', 4, 'Contiene el nombre del método o arte de pesca registrado en el formulario de campo')\n",
        "dfA.iloc[5] = ('Mes', 'Integer', 4, 'Contiene el mes del formulario de campo')\n",
        "dfA.iloc[6] = ('Estimación', 'Double', 8, 'Contiene el valor de la estimación del desembarco total para cada sitio de desembarco, a partir de las faenas muestreadas y la medición del respectivo esfuerzo pesquero')\n",
        "dfA.iloc[7] = ('Linf', 'Double', 8, 'Contiene el valor del limite inferior del del desembarco total estimado')\n",
        "dfA.iloc[8] = ('Lsup', 'Double', 8, 'Contiene el valor del limite superior del del desembarco total estimado')\n",
        "dfA.iloc[9] = ('Año', 'Integer', 4, 'Contiene el año del formulario de campo')\n",
        "\n",
        "dfA.head(10)"
      ],
      "execution_count": null,
      "outputs": []
    }
  ]
}